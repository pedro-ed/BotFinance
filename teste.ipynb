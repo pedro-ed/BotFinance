{
 "metadata": {
  "language_info": {
   "codemirror_mode": {
    "name": "ipython",
    "version": 3
   },
   "file_extension": ".py",
   "mimetype": "text/x-python",
   "name": "python",
   "nbconvert_exporter": "python",
   "pygments_lexer": "ipython3",
   "version": "3.9.0-final"
  },
  "orig_nbformat": 2,
  "kernelspec": {
   "name": "python38532bitb06b858424fb4975806e68b0af7b15ef",
   "display_name": "Python 3.8.5 32-bit"
  }
 },
 "nbformat": 4,
 "nbformat_minor": 2,
 "cells": [
  {
   "source": [
    "## Imports"
   ],
   "cell_type": "markdown",
   "metadata": {}
  },
  {
   "source": [
    "from pyiqoptionapi import IQOption\n",
    "import pyiqoptionapi\n",
    "import datetime\n",
    "import json\n",
    "import logging\n",
    "from colorama import init,Fore,Back\n",
    "#manipulador do sistema \n",
    "import sys\n",
    "#manipulador de tempo\n",
    "from datetime import  datetime,timedelta\n",
    "from time import time\n",
    "import requests\n",
    "import json\n",
    "api = ''\n",
    "from colorama import init,Fore,Back\n",
    "# from iq import comprar, connect, vender, indexBots, createLog, getCandle,getparidade\n",
    "#Connectar\n",
    "import sys\n",
    "import threading\n",
    "import os\n",
    "from win10toast import ToastNotifier\n",
    "toast = ToastNotifier()\n",
    "import os\n",
    "import time "
   ],
   "cell_type": "code",
   "metadata": {},
   "execution_count": 1,
   "outputs": []
  },
  {
   "source": [
    "## IQConnect"
   ],
   "cell_type": "markdown",
   "metadata": {}
  },
  {
   "cell_type": "code",
   "execution_count": 4,
   "metadata": {},
   "outputs": [],
   "source": [
    "def IQConnect():\n",
    "    \"\"\"\n",
    "    fd\n",
    "    \"\"\"\n",
    "    init(autoreset=True)\n",
    "    #LOGIN\n",
    "    logging.basicConfig(format='%(asctime)s %(message)s')\n",
    "    global api\n",
    "    api = IQOption(\"pedroadv991@gmail.com\", \"pedropedroka\")\n",
    "    api.connect()\n",
    "    if PRODUCION:\n",
    "        api.change_balance('REAL')#PRACTICE \\ REAL\n",
    "    else:\n",
    "        api.change_balance('PRACTICE')#PRACTICE \\ REAL\n",
    "    if api.check_connect():\n",
    "        return True\n",
    "    else:\n",
    "        return False"
   ]
  },
  {
   "source": [
    "## GetActive"
   ],
   "cell_type": "markdown",
   "metadata": {}
  },
  {
   "cell_type": "code",
   "execution_count": null,
   "metadata": {},
   "outputs": [],
   "source": [
    "def GetActive():\n",
    "    par = api.get_all_open_time()\n",
    "    pares = []\n",
    "    for paridade in par['turbo']:\n",
    "        if par['turbo'][paridade]['open'] == True:\n",
    "            pares.append(paridade)\n",
    "    return pares"
   ]
  },
  {
   "source": [
    "## DetectPattern"
   ],
   "cell_type": "markdown",
   "metadata": {}
  },
  {
   "cell_type": "code",
   "execution_count": null,
   "metadata": {},
   "outputs": [],
   "source": [
    "velas = getCandle(4,time.time(),1,par)\n",
    "                HistVelas = []\n",
    "                for vela in velas:\n",
    "                    timestamp = vela[\"from\"]\n",
    "                    open = vela[\"open\"]\n",
    "                    close = vela[\"close\"]\n",
    "                    if close < open:\n",
    "                        result = \"vermelha\"\n",
    "                    if close > open:\n",
    "                        result = \"verde\"\n",
    "                    if close == open:\n",
    "                        result = \"cinza\"\n",
    "                    HistVelas.append(result)\n",
    "                velaAtual = HistVelas[-1]\n",
    "                HistVelas[-1] = \"remove\"\n",
    "                HistVelas.remove(\"remove\")\n",
    "                confirmado = True if len(set(HistVelas))==1 and HistVelas[0] != \"cinza\" else False"
   ]
  },
  {
   "source": [
    "## ActionBuy"
   ],
   "cell_type": "markdown",
   "metadata": {}
  },
  {
   "cell_type": "code",
   "execution_count": null,
   "metadata": {},
   "outputs": [],
   "source": [
    "def ActionBuy(invest,par,timeframe,direction):\n",
    "    entrada = invest\n",
    "    direcao = 'call'\n",
    "    direcao = 'put'\n",
    "    status,id = api.buy(entrada, par, direcao, timeframe)\n",
    "    if status:\n",
    "        resultado = api.check_win_v3(id)\n",
    "        return(resultado)\n",
    "    else:\n",
    "        return(status)\n"
   ]
  },
  {
   "cell_type": "code",
   "execution_count": null,
   "metadata": {},
   "outputs": [],
   "source": []
  }
 ]
}