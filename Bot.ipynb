{
 "metadata": {
  "language_info": {
   "codemirror_mode": {
    "name": "ipython",
    "version": 3
   },
   "file_extension": ".py",
   "mimetype": "text/x-python",
   "name": "python",
   "nbconvert_exporter": "python",
   "pygments_lexer": "ipython3",
   "version": "3.9.0-final"
  },
  "orig_nbformat": 2,
  "kernelspec": {
   "name": "Python 3.9.0 64-bit",
   "display_name": "Python 3.9.0 64-bit",
   "metadata": {
    "interpreter": {
     "hash": "2647ea34e536f865ab67ff9ddee7fd78773d956cec0cab53c79b32cd10da5d83"
    }
   }
  }
 },
 "nbformat": 4,
 "nbformat_minor": 2,
 "cells": [
  {
   "cell_type": "code",
   "execution_count": 226,
   "metadata": {},
   "outputs": [],
   "source": [
    "Hist = \"\""
   ]
  },
  {
   "cell_type": "code",
   "execution_count": null,
   "metadata": {},
   "outputs": [],
   "source": [
    "investimento=2\n",
    "nloss = 10\n",
    "proximoinv = (investimento*2)+investimento*nloss\n",
    "import re\n",
    "\n"
   ]
  },
  {
   "cell_type": "code",
   "execution_count": 1,
   "metadata": {
    "tags": []
   },
   "outputs": [
    {
     "output_type": "stream",
     "name": "stdout",
     "text": [
      "10\n[1, 1, 1, 1, 1, 1, 1, 1, 1, 1, 0, 0, 0, 0, 0, 0]\n0 / 10\n"
     ]
    }
   ],
   "source": [
    "invest = 2\n",
    "direcao = \"CALL\"\n",
    "timeframe = 1\n",
    "prejuizo = 0\n",
    "executar=True\n",
    "balance = 100\n",
    "ganhou = 0\n",
    "perdaseguida = 0\n",
    "report = [0,0,0,0,0,0,0,0,0,0,0,0,0,0,0,0]\n",
    "x = True\n",
    "import random\n",
    "Hist = \"\"\n",
    "from hist import Hist, Hist2,Hist,Hist4\n",
    "import numpy as np\n",
    "Hist3 = [\"vermelho\" if x==0 else \"verde\" for x in [random.randint(0, 1) for x in range(10)]]\n",
    "Hist = Hist3\n",
    "i = 1\n",
    "log = \"\"\n",
    "direcaoInit = 1\n",
    "invs = []\n",
    "result = []\n",
    "for h in Hist:\n",
    "    #---Invesão programada --- #\n",
    "    for item in range(15):\n",
    "        if perdaseguida == item:\n",
    "            report[item] +=1 \n",
    "    \n",
    "    if perdaseguida == 3:i = 1 if i == 0 else 0\n",
    "    \n",
    "    i = 1 if i == 0 else 0\n",
    "    if i == 1:direcao  = \"verde\"\n",
    "    if i == 0 : direcao = \"vermelha\"\n",
    "    #-----------#\n",
    "    h = h.strip()\n",
    "    direcao = direcao.strip()\n",
    "    #  Avaliação de perda(<0) ou ganho(>0)\n",
    "    if h==direcao:\n",
    "        ganhou +=1\n",
    "        x = 1\n",
    "        #Formula do valor a ser jogado = 2**perdaseguida+10\n",
    "        perdaseguida = 0\n",
    "    if h!=\"cinza\" and h!=direcao:\n",
    "        x = 0\n",
    "        perdaseguida +=1\n",
    "    result.append(x)\n",
    "\n",
    "\n",
    "print(len(Hist))\n",
    "print(report)\n",
    "print(ganhou,\"/\",len(Hist)-ganhou)\n",
    "\n",
    "\n"
   ]
  },
  {
   "cell_type": "code",
   "execution_count": 2,
   "metadata": {},
   "outputs": [
    {
     "output_type": "stream",
     "name": "stdout",
     "text": [
      "0x Paguei R$11, 1 vezes, representa 10.0%\n1x Paguei R$12, 1 vezes, representa 10.0%\n2x Paguei R$14, 1 vezes, representa 10.0%\n3x Paguei R$18, 1 vezes, representa 10.0%\n4x Paguei R$26, 1 vezes, representa 10.0%\n5x Paguei R$42, 1 vezes, representa 10.0%\n6x Paguei R$74, 1 vezes, representa 10.0%\n7x Paguei R$138, 1 vezes, representa 10.0%\n8x Paguei R$266, 1 vezes, representa 10.0%\n9x Paguei R$522, 1 vezes, representa 10.0%\n10x Paguei R$1034, 0 vezes, representa 0.0%\n11x Paguei R$2058, 0 vezes, representa 0.0%\n12x Paguei R$4106, 0 vezes, representa 0.0%\n13x Paguei R$8202, 0 vezes, representa 0.0%\n14x Paguei R$16394, 0 vezes, representa 0.0%\n15x Paguei R$32778, 0 vezes, representa 0.0%\n10\n[1, 1, 1, 1, 1, 1, 1, 1, 1, 1, 0, 0, 0, 0, 0, 0]\n"
     ]
    }
   ],
   "source": [
    "\n",
    "t = 0\n",
    "porcent = 0\n",
    "total = 0\n",
    "for i in report:\n",
    "    quant = i\n",
    "    valor = 2**t+10\n",
    "    total +=quant\n",
    "    porcent += (quant/len(Hist))*100 if t>0 else 0\n",
    "    print(f\"{t}x Paguei R${valor}, {quant} vezes, representa {(quant/len(Hist))*100}%\")\n",
    "    t += 1 \n",
    "print(total)\n",
    "print(report)\n"
   ]
  },
  {
   "cell_type": "code",
   "execution_count": null,
   "metadata": {},
   "outputs": [],
   "source": [
    "\n",
    "\n",
    "\n"
   ]
  },
  {
   "cell_type": "code",
   "execution_count": null,
   "metadata": {},
   "outputs": [],
   "source": []
  },
  {
   "cell_type": "code",
   "execution_count": null,
   "metadata": {},
   "outputs": [],
   "source": [
    "invest = 2\n",
    "direcao = \"CALL\"\n",
    "timeframe = 1\n",
    "prejuizo = 0\n",
    "executar=True\n",
    "balance = 100\n",
    "ganhou = 0\n",
    "perdaseguida = 0\n",
    "report = [0,0,0,0,0,0,0,0,0,0,0,0,0,0,0,0]\n",
    "x = True\n",
    "import random\n",
    "Hist = \"\"\n",
    "from hist import Hist, Hist2,Hist,Hist4\n",
    "import numpy as np\n",
    "Hist3 = [\"vermelho\" if x==0 else \"verde\" for x in [random.randint(0, 1) for x in range(10)]]\n",
    "Hist = Hist3\n",
    "i = 1\n",
    "log = \"\"\n",
    "direcaoInit = 1\n",
    "invs = []\n",
    "result = []\n",
    "for h in Hist:\n",
    "    #---Invesão programada --- #\n",
    "    for item in range(15):\n",
    "        if perdaseguida == item:\n",
    "            report[item] +=1 \n",
    "    \n",
    "    if perdaseguida == 3:i = 1 if i == 0 else 0\n",
    "    \n",
    "    i = 1 if i == 0 else 0\n",
    "    if i == 1:direcao  = \"verde\"\n",
    "    if i == 0 : direcao = \"vermelha\"\n",
    "    #-----------#\n",
    "    h = h.strip()\n",
    "    direcao = direcao.strip()\n",
    "    #  Avaliação de perda(<0) ou ganho(>0)\n",
    "    if h==direcao:\n",
    "        ganhou +=1\n",
    "        x = 1\n",
    "        #Formula do valor a ser jogado = 2**perdaseguida+10\n",
    "        perdaseguida = 0\n",
    "    if h!=\"cinza\" and h!=direcao:\n",
    "        x = 0\n",
    "        perdaseguida +=1\n",
    "    result.append(x)\n",
    "\n",
    "\n",
    "print(len(Hist))\n",
    "print(report)\n",
    "print(ganhou,\"/\",len(Hist)-ganhou)\n"
   ]
  },
  {
   "cell_type": "code",
   "execution_count": 8,
   "metadata": {},
   "outputs": [
    {
     "output_type": "stream",
     "name": "stdout",
     "text": [
      "False\n"
     ]
    }
   ],
   "source": []
  }
 ]
}