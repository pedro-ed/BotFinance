{
 "metadata": {
  "language_info": {
   "codemirror_mode": {
    "name": "ipython",
    "version": 3
   },
   "file_extension": ".py",
   "mimetype": "text/x-python",
   "name": "python",
   "nbconvert_exporter": "python",
   "pygments_lexer": "ipython3",
   "version": "3.9.0-final"
  },
  "orig_nbformat": 2,
  "kernelspec": {
   "name": "python38532bitb06b858424fb4975806e68b0af7b15ef",
   "display_name": "Python 3.8.5 32-bit"
  }
 },
 "nbformat": 4,
 "nbformat_minor": 2,
 "cells": [
  {
   "cell_type": "code",
   "execution_count": null,
   "metadata": {},
   "outputs": [],
   "source": [
    "import GetCadle, iqLogin,time,GetPares,iqOperation,Timer,json\n",
    "from datetime import datetime\n",
    "from dateutil import tz"
   ]
  },
  {
   "cell_type": "code",
   "execution_count": null,
   "metadata": {},
   "outputs": [],
   "source": [
    "def timestamp_converter(x): # Função para converter timestamp\n",
    "\thora = datetime.strptime(datetime.utcfromtimestamp(x).strftime('%Y-%m-%d %H:%M:%S'), '%Y-%m-%d %H:%M:%S')\n",
    "\thora = hora.replace(tzinfo=tz.gettz('GMT'))\n",
    "\t\n",
    "\treturn str(hora)[:-6]\n",
    "# Retorna o histórico, para pegar o histórico do digital, deve ser colocado 'digital-option' e para pegar binario,\n",
    "#\tdeve ser colocado 'turbo-option'\n",
    "\n",
    "print(\"Logando\")\n",
    "api = iqLogin.login()\n",
    "\n",
    "status,historico = api.get_position_history_v2('turbo-option',300,0,0,0)#digital-option - turbo-option\n",
    "print(status)\n",
    "\n",
    "\n",
    "\n"
   ]
  },
  {
   "cell_type": "code",
   "execution_count": 47,
   "metadata": {
    "tags": []
   },
   "outputs": [
    {
     "output_type": "stream",
     "name": "stdout",
     "text": [
      "-12.1\n"
     ]
    }
   ],
   "source": [
    "\n",
    "'''\n",
    "\n",
    ":::::::::::::::: [ MODO DIGITAL ] ::::::::::::::::\n",
    "FINAL OPERACAO : historico['positions']['close_time']\n",
    "INICIO OPERACAO: historico['positions']['open_time']\n",
    "LUCRO          : historico['positions']['close_profit']\n",
    "ENTRADA        : historico['positions']['invest']\n",
    "PARIDADE       : historico['positions']['raw_event']['instrument_underlying']\n",
    "DIRECAO        : historico['positions']['raw_event']['instrument_dir']\n",
    "VALOR          : historico['positions']['raw_event']['buy_amount']\n",
    "\n",
    ":::::::::::::::: [ MODO BINARIO ] ::::::::::::::::\n",
    "MODO TURBO tem as chaves do dict diferentes para a direção da operação(put ou call) \n",
    "\te para exibir a paridade, deve ser utilizado:\n",
    "DIRECAO : historico['positions']['raw_event']['direction']\n",
    "PARIDADE: historico['positions']['raw_event']['active']\n",
    "'''\n",
    "data = \"2020-12-02\"\n",
    "lucro = 0\n",
    "invests = []\n",
    "for x in historico['positions']:\n",
    "\topem =  str(timestamp_converter(x['open_time'] / 1000))[:10]\n",
    "\tif data == opem:\n",
    "\t\t# print(' -  DIRECAO: '+str(x['raw_event']['direction'])+' / VALOR: '+str(x['invest']))\n",
    "\t\t# print('LUCRO: '+str(x['invest'] if x['close_profit'] == 0 else round(x['close_profit']-x['invest'], 2) ) + ' | INICIO OP: '+str(timestamp_converter(x['open_time'] / 1000))+' / FIM OP: '+str(timestamp_converter(x['close_time'] / 1000)))\n",
    "\t\t# print('\\n')\n",
    "\t\tinvest = x['invest']\n",
    "\t\tlucro = invest-invest-invest if x['close_profit'] == 0 else round(x['close_profit']-x['invest'], 2)\n",
    "\t\t# print(str(timestamp_converter(x['open_time'] / 1000)))\n",
    "\t\tlucro += lucro\n",
    "\n",
    "print(lucro)\n",
    "\n"
   ]
  },
  {
   "cell_type": "code",
   "execution_count": 43,
   "metadata": {},
   "outputs": [
    {
     "output_type": "stream",
     "name": "stdout",
     "text": [
      "-10\n"
     ]
    }
   ],
   "source": [
    "n = 10\n",
    "print(n-n-n)"
   ]
  }
 ]
}